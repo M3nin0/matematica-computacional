{
 "cells": [
  {
   "cell_type": "markdown",
   "metadata": {},
   "source": [
    "## Eliminação gaussiana e determinantes\n",
    "\n",
    "Documento criado com o objetivo de apresentar considerações sobre métodos de solução de sistemas lineares vistos na disciplina de matemática computacional (CAP-239-4), do curso de pós-graduação em Computação Aplicada do Instituto Nacional de Pesquisas Espaciais\n",
    "\n",
    "Docentes:\n",
    "- Dr. Leonardo B. L. Santos\n",
    "- Dr. Reinaldo Rosa\n",
    "\n",
    "Discente:\n",
    "- Felipe Menino Carlos"
   ]
  },
  {
   "cell_type": "markdown",
   "metadata": {},
   "source": [
    "<hr>\n",
    "\n",
    "### Solução de sistemas lineares\n",
    "\n",
    "Com os métodos de `Crammer` e `Eliminação Gaussiana` apresentados para a solução de sistemas lineares, uma pergunta surgiu, como é o comportamento de tais métodos nos diferentes tipos de sistemas de equações lineares.\n",
    "\n",
    "Este documento apresenta e busca entender tal comportamento nos diferentes tipos de sistemas de equações lineares."
   ]
  },
  {
   "cell_type": "markdown",
   "metadata": {},
   "source": [
    "*A interpretação geométrica de cada um dos tipos de sistemas de equações lineares foi realizada na [segunda lista de exercícios](https://fmenino-cap-239.netlify.com/lista_2/) da disciplina*"
   ]
  },
  {
   "cell_type": "code",
   "execution_count": 1,
   "metadata": {},
   "outputs": [],
   "source": [
    "addpath('src')"
   ]
  },
  {
   "cell_type": "markdown",
   "metadata": {},
   "source": [
    "<hr>\n",
    "\n",
    "### Sistema possível e determinado"
   ]
  },
  {
   "cell_type": "code",
   "execution_count": 2,
   "metadata": {},
   "outputs": [
    {
     "name": "stdout",
     "output_type": "stream",
     "text": [
      "ans =\r\n",
      "\r\n",
      "   2.00000  -1.00000   1.00000\r\n",
      "   0.00000  -0.50000  -0.50000\r\n",
      "\r\n"
     ]
    }
   ],
   "source": [
    "SPD = [2 -1 1; 1 -1 0];\n",
    "\n",
    "gaussianElimination(SPD)"
   ]
  },
  {
   "cell_type": "markdown",
   "metadata": {},
   "source": [
    "*Neste caso, o determinate é diferente de zero*"
   ]
  },
  {
   "cell_type": "code",
   "execution_count": 3,
   "metadata": {},
   "outputs": [
    {
     "name": "stdout",
     "output_type": "stream",
     "text": [
      "ans = -1\r\n"
     ]
    }
   ],
   "source": [
    "det([2 -1; 1 -1])"
   ]
  },
  {
   "cell_type": "markdown",
   "metadata": {},
   "source": [
    "<hr>\n",
    "\n",
    "### Sistema possível e indeterminado"
   ]
  },
  {
   "cell_type": "code",
   "execution_count": 4,
   "metadata": {},
   "outputs": [
    {
     "name": "stdout",
     "output_type": "stream",
     "text": [
      "ans =\r\n",
      "\r\n",
      "   4   6   2\r\n",
      "   0   0   0\r\n",
      "\r\n"
     ]
    }
   ],
   "source": [
    "SPI = [4 6 2; 2 3 1];\n",
    "\n",
    "gaussianElimination(SPI)"
   ]
  },
  {
   "cell_type": "code",
   "execution_count": 5,
   "metadata": {},
   "outputs": [
    {
     "name": "stdout",
     "output_type": "stream",
     "text": [
      "ans =\r\n",
      "\r\n",
      "   1   1   8\r\n",
      "   0   0   0\r\n",
      "\r\n"
     ]
    }
   ],
   "source": [
    "SPI = [1 1 8; 2 2 16];\n",
    "\n",
    "gaussianElimination(SPI)"
   ]
  },
  {
   "cell_type": "markdown",
   "metadata": {},
   "source": [
    "*Neste caso, o determinate é igual a zero*"
   ]
  },
  {
   "cell_type": "code",
   "execution_count": 6,
   "metadata": {},
   "outputs": [
    {
     "name": "stdout",
     "output_type": "stream",
     "text": [
      "ans = 0\n",
      "ans = 0\n",
      "ans = 0\n",
      "ans = 0\n"
     ]
    }
   ],
   "source": [
    "det([4 6; 2 3])\n",
    "det([1 1; 2 2])\n",
    "\n",
    "det([2 6; 1 3]) % secundário\n",
    "det([1 8; 2 16]) % secundário"
   ]
  },
  {
   "cell_type": "markdown",
   "metadata": {},
   "source": [
    "<hr>\n",
    "\n",
    "### Sistema impossível"
   ]
  },
  {
   "cell_type": "code",
   "execution_count": 7,
   "metadata": {},
   "outputs": [
    {
     "name": "stdout",
     "output_type": "stream",
     "text": [
      "ans =\r\n",
      "\r\n",
      "   1   1   4\r\n",
      "   0   0   8\r\n",
      "\r\n"
     ]
    }
   ],
   "source": [
    "SI = [1 1 4; -1 -1 4];\n",
    "\n",
    "gaussianElimination(SI)"
   ]
  },
  {
   "cell_type": "markdown",
   "metadata": {},
   "source": [
    "*Neste caso, o determinate principal é zero e o secundário diferente de zero*"
   ]
  },
  {
   "cell_type": "code",
   "execution_count": 8,
   "metadata": {},
   "outputs": [
    {
     "name": "stdout",
     "output_type": "stream",
     "text": [
      "ans = 0\n",
      "ans = -8\n",
      "ans =  8\n"
     ]
    }
   ],
   "source": [
    "det([1 1; -1 -1])\n",
    "\n",
    "det([4 1; 4 -1]) % secundário\n",
    "det([1 4; -1 4]) % secundário"
   ]
  }
 ],
 "metadata": {
  "kernelspec": {
   "display_name": "Octave",
   "language": "octave",
   "name": "octave"
  },
  "language_info": {
   "file_extension": ".m",
   "help_links": [
    {
     "text": "GNU Octave",
     "url": "https://www.gnu.org/software/octave/support.html"
    },
    {
     "text": "Octave Kernel",
     "url": "https://github.com/Calysto/octave_kernel"
    },
    {
     "text": "MetaKernel Magics",
     "url": "https://metakernel.readthedocs.io/en/latest/source/README.html"
    }
   ],
   "mimetype": "text/x-octave",
   "name": "octave",
   "version": "4.2.2"
  }
 },
 "nbformat": 4,
 "nbformat_minor": 4
}
