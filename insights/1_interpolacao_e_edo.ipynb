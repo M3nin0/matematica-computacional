{
 "cells": [
  {
   "cell_type": "markdown",
   "metadata": {},
   "source": [
    "## Interpretações de exercício envolvendo interpolação e soluções de equações diferenciais\n",
    "\n",
    "Documento criado com o objetivo de apresentar o entendimento do conteúdo de interpolação e soluções numéricas de equações diferenciais da disciplina de matemática computacional (CAP-239-4), do curso de pós-graduação em Computação Aplicada do Instituto Nacional de Pesquisas Espaciais\n",
    "\n",
    "Docentes:\n",
    "- Dr. Leonardo B. L. Santos\n",
    "- Dr. Reinaldo Rosa\n",
    "\n",
    "Discente:\n",
    "- Felipe Menino Carlos\n"
   ]
  },
  {
   "cell_type": "markdown",
   "metadata": {},
   "source": [
    "Para tal interpretação, o seguinte exercício foi considerado:\n",
    "\n",
    "Considere o problema de valor inicial $y(1) = 1$ da equação diferencial $y' = f(x) = 2x + 3$\n",
    "\n",
    "Sabendo que $y(3) = 15$ e $y(4) = 25$, apresente $y(2)$\n",
    "\n",
    "- a) Por interpolação de 1° grau;\n",
    "- b) Por interpolação de 2° grau;\n",
    "- c) Por solução numérica da equação diferencial\n",
    "- d) Quais motivações, necessidades e aproximações em cada abordagem ? Se não fossem fornecidos y(3) e y(4), como seria feito para os itens `a` e `b` ? "
   ]
  },
  {
   "cell_type": "code",
   "execution_count": 1,
   "metadata": {},
   "outputs": [],
   "source": [
    "addpath('../listas/lista_5/src/') % Funções auxiliares"
   ]
  },
  {
   "cell_type": "markdown",
   "metadata": {},
   "source": [
    "Antes de começar as questões, façamos inicialmente a visualização dos pontos que já foram disponibilizados pelo problema, isto pode direcionar melhor os passos a serem tomados nos exercícios subsequentes."
   ]
  },
  {
   "cell_type": "code",
   "execution_count": 2,
   "metadata": {},
   "outputs": [],
   "source": [
    "xo = [1 3 4];\n",
    "yo = [1 15 25];"
   ]
  },
  {
   "cell_type": "code",
   "execution_count": 3,
   "metadata": {},
   "outputs": [
    {
     "data": {
      "image/png": "[encoded data removed]",
      "text/plain": [
       "<IPython.core.display.Image object>"
      ]
     },
     "metadata": {},
     "output_type": "display_data"
    }
   ],
   "source": [
    "figure()\n",
    "hold on\n",
    "plot(xo, yo, 'linewidth', 8);\n",
    "plot(xo, yo, 'Marker', 'o', 'MarkerSize', 13, 'MarkerFaceColor', 'red');\n",
    "hold off"
   ]
  },
  {
   "cell_type": "markdown",
   "metadata": {},
   "source": [
    "<hr>\n",
    "\n",
    "**a) Por interpolação de 1° grau**\n",
    "\n",
    "Para este tópico, considerando o conhecimento prévio sobre a disposição dos pontos do problema, é possível afirmar que a interpolação de 1° grau não terá sucesso ao ser aplicada neste conjunto de pontos.\n",
    "\n",
    "Em outros contextos, como por exemplo, em casos que os pontos são colineares, tal interpolação poderia ser utilizada. \n",
    "\n",
    "Como forma de não deixar o exercício sem nenhuma solução, o que pode ser feito é a escolha de um par de pontos únicos para a interpolação."
   ]
  },
  {
   "cell_type": "markdown",
   "metadata": {},
   "source": [
    "Começando primeiro com os pontos [1 3]"
   ]
  },
  {
   "cell_type": "code",
   "execution_count": 4,
   "metadata": {},
   "outputs": [],
   "source": [
    "x = [1 3];\n",
    "y = [1 15];"
   ]
  },
  {
   "cell_type": "markdown",
   "metadata": {},
   "source": [
    "A interpolação será feita via sistema linear. Para tal, a matriz de vandermond é gerada e os coeficientes são calculados."
   ]
  },
  {
   "cell_type": "code",
   "execution_count": 5,
   "metadata": {},
   "outputs": [],
   "source": [
    "p0Params = vander(x) \\ y';"
   ]
  },
  {
   "cell_type": "markdown",
   "metadata": {},
   "source": [
    "Após a geração dos coeficientes é possível realizar a interpolação nos intervalos interpolados."
   ]
  },
  {
   "cell_type": "code",
   "execution_count": 6,
   "metadata": {},
   "outputs": [
    {
     "data": {
      "image/png": "[encoded data removed]",
      "text/plain": [
       "<IPython.core.display.Image object>"
      ]
     },
     "metadata": {},
     "output_type": "display_data"
    }
   ],
   "source": [
    "figure()\n",
    "hold on\n",
    "plot(polyval(p0Params, 1:3), 'linewidth', 8, 'color', 'w')\n",
    "plot(x, y, 'Marker', 'o', 'MarkerSize', 13, 'MarkerFaceColor', 'red', 'linewidth', 8)\n",
    "hold off"
   ]
  },
  {
   "cell_type": "markdown",
   "metadata": {},
   "source": [
    "Porém, ainda existem pontos que precisam ser considerados, como apresentado abaixo, para esses o mesmo processo de interpolação separa, considerando apenas um conjunto de pontos pode ser feita."
   ]
  },
  {
   "cell_type": "code",
   "execution_count": 7,
   "metadata": {},
   "outputs": [
    {
     "data": {
      "image/png": "[encoded data removed]",
      "text/plain": [
       "<IPython.core.display.Image object>"
      ]
     },
     "metadata": {},
     "output_type": "display_data"
    }
   ],
   "source": [
    "figure()\n",
    "hold on\n",
    "plot(polyval(p0Params, 1:3), 'linewidth', 8)\n",
    "plot(xo(2:end), yo(2:end), 'Marker', 'o', 'MarkerSize', 13, 'MarkerFaceColor', 'red',  'linewidth', 8)\n",
    "hold off"
   ]
  },
  {
   "cell_type": "markdown",
   "metadata": {},
   "source": [
    "A discussão por trás deste exercício é que, não existe a possibilidade de realizar o processo de interpolação de 1° grau considerando os pontos do exercício e sua disposição. O fato da interpolação necessitar de um polinômio que passa por todos os pontos gera tal impossibilidade, em outros contextos, de generalização por exemplo, tais pontos poderia ser considerados e utilizados sem problemas."
   ]
  },
  {
   "cell_type": "markdown",
   "metadata": {},
   "source": [
    "Na questão original do exercício é pedido que o valor de $y(2)$ seja identificado, como o intervalo [1 3] foi interpolado, este pode ser obtido sem problemas."
   ]
  },
  {
   "cell_type": "code",
   "execution_count": 8,
   "metadata": {},
   "outputs": [
    {
     "name": "stdout",
     "output_type": "stream",
     "text": [
      "ans =  8\r\n"
     ]
    }
   ],
   "source": [
    "polyval(p0Params, 2)"
   ]
  },
  {
   "cell_type": "markdown",
   "metadata": {},
   "source": [
    "<hr>\n",
    "\n",
    "**b) Por interpolação de 2° grau**\n",
    "\n",
    "Diferente da questão anterior, com os pontos dispostos, é possível realizar a interpolação de 2° grau. Para tal o método de lagrange foi utilizado, o resultado é apresentado abaixo.\n",
    "\n",
    "$$\n",
    "x^2 + 3x - 3\n",
    "$$\n",
    "\n",
    "Para visualizar a forma geradora do polinômio, o mesmo será aplicado a um conjunto de pontos em $x$ dentro do domínio interpolado."
   ]
  },
  {
   "cell_type": "code",
   "execution_count": 9,
   "metadata": {},
   "outputs": [],
   "source": [
    "interpFnc = @(x) x.^2 + 3.*x -3;"
   ]
  },
  {
   "cell_type": "code",
   "execution_count": 10,
   "metadata": {},
   "outputs": [
    {
     "data": {
      "image/png": "[encoded data removed]",
      "text/plain": [
       "<IPython.core.display.Image object>"
      ]
     },
     "metadata": {},
     "output_type": "display_data"
    }
   ],
   "source": [
    "plot(interpFnc(1:1:max(xo)), 'linewidth', 8)"
   ]
  },
  {
   "cell_type": "markdown",
   "metadata": {},
   "source": [
    "Com o resultado desta interpolação é possível obter o valor de $y(2)$ requisitado pelo exercício."
   ]
  },
  {
   "cell_type": "code",
   "execution_count": 11,
   "metadata": {},
   "outputs": [
    {
     "name": "stdout",
     "output_type": "stream",
     "text": [
      "ans =  7\r\n"
     ]
    }
   ],
   "source": [
    "interpFnc(2)"
   ]
  },
  {
   "cell_type": "markdown",
   "metadata": {},
   "source": [
    "<hr>\n",
    "\n",
    "**c) Por solução numérica da equação diferencial**\n",
    "\n",
    "Para a solução desta questão é aplicado o método de RungeKutta de 4° ordem e com a aproximação da função, os valores requisitados podem ser obtidos."
   ]
  },
  {
   "cell_type": "code",
   "execution_count": 12,
   "metadata": {},
   "outputs": [],
   "source": [
    "exercise = @(x) 2*x + 3;\n",
    "[x, y] = rungeKuttaSolverEDO(1, 5, 1, 1, exercise);"
   ]
  },
  {
   "cell_type": "markdown",
   "metadata": {},
   "source": [
    "Visualizando o domínio da solução específica aproximada pelo método de RungeKutta."
   ]
  },
  {
   "cell_type": "code",
   "execution_count": 13,
   "metadata": {},
   "outputs": [
    {
     "data": {
      "image/png": "[encoded data removed]",
      "text/plain": [
       "<IPython.core.display.Image object>"
      ]
     },
     "metadata": {},
     "output_type": "display_data"
    }
   ],
   "source": [
    "plot(x, y, 'linewidth', 8);"
   ]
  },
  {
   "cell_type": "code",
   "execution_count": 14,
   "metadata": {},
   "outputs": [
    {
     "name": "stdout",
     "output_type": "stream",
     "text": [
      "ans =  7\r\n"
     ]
    }
   ],
   "source": [
    "y(2) % Resultado da aproximação"
   ]
  },
  {
   "cell_type": "markdown",
   "metadata": {},
   "source": [
    "<hr>\n",
    "\n",
    "**d) Quais motivações, necessidades e aproximações em cada abordagem ? Se não fossem fornecidos y(3) e y(4), como seria feito para os itens a e b ?**\n",
    "\n",
    "*Para responder aos pontos relacionados a motivação, foi desconsiderado os requisitos do exercício e considerado o contexto global da matéria*"
   ]
  },
  {
   "cell_type": "markdown",
   "metadata": {},
   "source": [
    "Considerando inicialmente o método de interpolação linear, para os pontos que estão sendo trabalhados, esta pode não ser a melhor escolha para a apresentação dos melhores resultados de aproximação, porém, sua simplicidade faz com que em certos contextos seja possível sua aplicação.\n",
    "\n",
    "Para o caso da interpolação de 2° grau, este método tem sua motivação de uso explicada nos dados, para o método de interpolação de Lagrange por exemplo é tido que para um polinômio interpolador $P_{n - 1}(x)$ é necessário existir uma quantidade $n$ de pontos no conjunto de dados, o que é justamente a condição que os dados apresentam.\n",
    "\n",
    "Já os métodos de RK4 tem certas propriedades interessantes, e sua utilização para a interpolação de um determinado conjunto de pontos pode ser aplicada, fazendo com que exista uma boa relação de custo com qualidade dos resultados."
   ]
  },
  {
   "cell_type": "markdown",
   "metadata": {},
   "source": [
    "Na segunda parte da questão é apresentado uma questão, considerando que os pontos `y(3)` e `y(4)` não estivessem disponíveis. Bem, neste caso é completamente possível utilizar o método de RK de 4° ordem para aproximar a função e obter os pontos, se esses fossem exigidos pelo exercício, ou mesmo, através do próprio método RK4 já obter o resultado de $y(2)$ exigido pelo exercício. "
   ]
  },
  {
   "cell_type": "markdown",
   "metadata": {},
   "source": [
    "Para a geração desta resposta foi considerado que o método de RK4, enquanto faz a aproximação da função, é capaz de mapear diferentes famílias de soluções, estas sendo geradas de acordo com o `valor inicial` aplicado. A Figura abaixo apresenta tal propriedade, variando o `valor inicial` considerado."
   ]
  },
  {
   "cell_type": "code",
   "execution_count": 15,
   "metadata": {},
   "outputs": [
    {
     "data": {
      "image/png": "[encoded data removed]",
      "text/plain": [
       "<IPython.core.display.Image object>"
      ]
     },
     "metadata": {},
     "output_type": "display_data"
    }
   ],
   "source": [
    "titulo = '2*x + 3 multiple solutions in interval 1-5';\n",
    "h = 5;\n",
    "solutions = 120;\n",
    "cmap = hsv(solutions);\n",
    "\n",
    "figure\n",
    "hold on\n",
    "for i=1:h:solutions\n",
    "  [x, y] = rungeKuttaSolverEDO(1, 5, 1, i, exercise);\n",
    "  plot(x, y, 'Color', cmap(i, :), 'linewidth', 1.8);\n",
    "endfor\n",
    "title(titulo, 'fontsize', 15)\n",
    "hold off"
   ]
  },
  {
   "cell_type": "markdown",
   "metadata": {},
   "source": [
    "Comparando o resultado de cada uma das abordagens para a obtenção do valor $y(2)$"
   ]
  },
  {
   "cell_type": "markdown",
   "metadata": {},
   "source": [
    "- Interpolação linear (Polinômio de 1° grau): 8\n",
    "- Interpolação 2° grau (Polinômio de 2° grau): 7\n",
    "- Através de aproximação de RK4: 7"
   ]
  },
  {
   "cell_type": "markdown",
   "metadata": {},
   "source": [
    "Calculando o erro relativo $ ErroRelativo = \\frac{|y - \\overline{y}|}{|y|}$, considerando o valor 7, obtido com o cálculo analítico, como verdade, é possível perceber que, as abordagens não possuem erro muito elevado."
   ]
  },
  {
   "cell_type": "markdown",
   "metadata": {},
   "source": [
    "Erro relativo do método de interpolação linear"
   ]
  },
  {
   "cell_type": "code",
   "execution_count": 16,
   "metadata": {},
   "outputs": [
    {
     "name": "stdout",
     "output_type": "stream",
     "text": [
      "ans =  0.14286\r\n"
     ]
    }
   ],
   "source": [
    "relativeError(7, 8)"
   ]
  },
  {
   "cell_type": "markdown",
   "metadata": {},
   "source": [
    "Erro relativo do método de interpolação de 2° grau"
   ]
  },
  {
   "cell_type": "code",
   "execution_count": 17,
   "metadata": {},
   "outputs": [
    {
     "name": "stdout",
     "output_type": "stream",
     "text": [
      "ans = 0\r\n"
     ]
    }
   ],
   "source": [
    "relativeError(7, 7)"
   ]
  },
  {
   "cell_type": "markdown",
   "metadata": {},
   "source": [
    "Erro relativo do método de RK4"
   ]
  },
  {
   "cell_type": "code",
   "execution_count": 18,
   "metadata": {},
   "outputs": [
    {
     "name": "stdout",
     "output_type": "stream",
     "text": [
      "ans = 0\r\n"
     ]
    }
   ],
   "source": [
    "relativeError(7, 7)"
   ]
  }
 ],
 "metadata": {
  "kernelspec": {
   "display_name": "Octave",
   "language": "octave",
   "name": "octave"
  },
  "language_info": {
   "file_extension": ".m",
   "help_links": [
    {
     "text": "GNU Octave",
     "url": "https://www.gnu.org/software/octave/support.html"
    },
    {
     "text": "Octave Kernel",
     "url": "https://github.com/Calysto/octave_kernel"
    },
    {
     "text": "MetaKernel Magics",
     "url": "https://metakernel.readthedocs.io/en/latest/source/README.html"
    }
   ],
   "mimetype": "text/x-octave",
   "name": "octave",
   "version": "4.2.2"
  }
 },
 "nbformat": 4,
 "nbformat_minor": 4
}
